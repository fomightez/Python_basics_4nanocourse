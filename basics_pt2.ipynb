{
 "cells": [
  {
   "cell_type": "markdown",
   "metadata": {
    "slideshow": {
     "slide_type": "slide"
    }
   },
   "source": [
    "# Python basics continuing on with part 2 ....\n",
    "See [here](https://github.com/fomightez/Python_basics_4nanocourse) for information about this notebook.\n",
    "\n",
    "------\n",
    "\n",
    "\n",
    "----\n",
    "\n",
    "\n"
   ]
  },
  {
   "cell_type": "markdown",
   "metadata": {
    "slideshow": {
     "slide_type": "slide"
    }
   },
   "source": [
    "### First make sure file to work on is here:"
   ]
  },
  {
   "cell_type": "code",
   "execution_count": null,
   "metadata": {},
   "outputs": [],
   "source": [
    "!curl -OL https://files.rcsb.org/download/1p3v.pdb"
   ]
  },
  {
   "cell_type": "markdown",
   "metadata": {
    "slideshow": {
     "slide_type": "slide"
    }
   },
   "source": [
    "## Slicing short-cut syntax and using indexing/slicing from end of line\n",
    "\n",
    "\n",
    "We saw before something like this:"
   ]
  },
  {
   "cell_type": "code",
   "execution_count": null,
   "metadata": {},
   "outputs": [],
   "source": [
    "with open(\"1p3v.pdb\", 'r') as input:\n",
    "    for line in input:\n",
    "        print(line[31-1]) \n",
    "        print(line[0:31])"
   ]
  },
  {
   "cell_type": "markdown",
   "metadata": {
    "slideshow": {
     "slide_type": "slide"
    }
   },
   "source": [
    "Where `print(line[0:31])` gets everything up to but not including the item at the 31st index.\n",
    "\n",
    "Because we are starting with zero, we can leave that off here because it will default to that."
   ]
  },
  {
   "cell_type": "code",
   "execution_count": null,
   "metadata": {},
   "outputs": [],
   "source": [
    "with open(\"1p3v.pdb\", 'r') as input:\n",
    "    for line in input:\n",
    "        # print(line[31-1]) \n",
    "        print(line[:31])"
   ]
  },
  {
   "cell_type": "markdown",
   "metadata": {
    "slideshow": {
     "slide_type": "slide"
    }
   },
   "source": [
    "Likewise if we want to go all the way to the end, leave off the number after the colon:"
   ]
  },
  {
   "cell_type": "code",
   "execution_count": null,
   "metadata": {},
   "outputs": [],
   "source": [
    "with open(\"1p3v.pdb\", 'r') as input:\n",
    "    for line in input:\n",
    "        # print(line[31-1]) \n",
    "        print(line[30:])"
   ]
  },
  {
   "cell_type": "markdown",
   "metadata": {
    "slideshow": {
     "slide_type": "slide"
    }
   },
   "source": [
    "If negative numbers are used you can get back from the end of the line. First with a single letter using indexing:"
   ]
  },
  {
   "cell_type": "code",
   "execution_count": null,
   "metadata": {},
   "outputs": [],
   "source": [
    "with open(\"1p3v.pdb\", 'r') as input:\n",
    "    for line in input:\n",
    "        # print(line[31-1]) \n",
    "        if line[-7] != \" \":\n",
    "            print(line[-7])"
   ]
  },
  {
   "cell_type": "markdown",
   "metadata": {
    "slideshow": {
     "slide_type": "slide"
    }
   },
   "source": [
    "Let's use slicing back from end of the line to put that in context:"
   ]
  },
  {
   "cell_type": "code",
   "execution_count": null,
   "metadata": {},
   "outputs": [],
   "source": [
    "with open(\"1p3v.pdb\", 'r') as input:\n",
    "    for line in input:\n",
    "        # print(line[31-1]) \n",
    "        if line[-7] != \" \":\n",
    "            print(line[-7])\n",
    "            print(line[-7:].strip()) #Strip off the new line character, or you get an additional line in output"
   ]
  },
  {
   "cell_type": "markdown",
   "metadata": {
    "slideshow": {
     "slide_type": "slide"
    }
   },
   "source": [
    "**Better way to show?**:"
   ]
  },
  {
   "cell_type": "code",
   "execution_count": null,
   "metadata": {},
   "outputs": [],
   "source": [
    "input='''0123456789\n",
    "ABCDEFGHIJKLMNOPQRSTUVWXYZ\n",
    "0123456789'''\n",
    "for line in input.split(\"\\n\"):\n",
    "    # print(line[31-1]) \n",
    "    if line[-3] != \" \":\n",
    "        print(line[-3])\n",
    "        print(line[-3:])"
   ]
  },
  {
   "cell_type": "markdown",
   "metadata": {
    "slideshow": {
     "slide_type": "slide"
    }
   },
   "source": [
    "## Lists and dictionaries for data handling\n",
    "\n",
    "`split()` in code we just ran illustrated making a list splititng on new line character.\n",
    "\n",
    "For example from the split like above we can see the list if we look at it. "
   ]
  },
  {
   "cell_type": "code",
   "execution_count": null,
   "metadata": {
    "slideshow": {
     "slide_type": "-"
    }
   },
   "outputs": [],
   "source": [
    "input='''0123456789\n",
    "ABCDEFGHIJKLMNOPQRSTUVWXYZ\n",
    "0123456789'''\n",
    "l = input.split(\"\\n\")\n",
    "print(type(l))\n",
    "print(l)"
   ]
  },
  {
   "cell_type": "markdown",
   "metadata": {
    "slideshow": {
     "slide_type": "slide"
    }
   },
   "source": [
    "Making a set from a list will give of us the set of unique items in the list."
   ]
  },
  {
   "cell_type": "code",
   "execution_count": null,
   "metadata": {},
   "outputs": [],
   "source": [
    "input='''0123456789\n",
    "ABCDEFGHIJKLMNOPQRSTUVWXYZ\n",
    "0123456789'''\n",
    "l = input.split(\"\\n\")\n",
    "print(type(l))\n",
    "print(l)\n",
    "s = set(l)\n",
    "print(type(s))\n",
    "print(s)"
   ]
  },
  {
   "cell_type": "markdown",
   "metadata": {
    "slideshow": {
     "slide_type": "slide"
    }
   },
   "source": [
    "Dictionaries have unique keys linked to values.\n",
    "\n",
    "Examples:\n",
    "\n",
    "```python\n",
    "# protein names as keys:\n",
    "d = {\"Svu1p\":\"LVALACHYRSITWP\",\n",
    "    \"Svu2p\":\"LVALACHYRSITWP\",\n",
    "    \"Svu3p\":\"LVALACIYASITWN\"}\n",
    "\n",
    "# accession numbers as keys:\n",
    "a = {\"GB1567661\":\"LVALACHYRSITWP\",\n",
    "    \"GB1567662\":\"LVALACHYRSITWP\",\n",
    "    \"GB1567663\":\"LVALACIYASITWN\"}\n",
    "```\n",
    "\n"
   ]
  },
  {
   "cell_type": "markdown",
   "metadata": {
    "slideshow": {
     "slide_type": "slide"
    }
   },
   "source": [
    "## `for` loops and `enumerate()` to iterate on lists\n",
    "\n",
    "We covered `for` loops in session #3 and you've seen several today.\n",
    "\n",
    "This is one place were whitespace is important. (`if` conditionals are another.)\n",
    "\n",
    "Let's illustrate that by writing a for loop to iterate over the `input` we've been using lately and splitting on new line character to make a list.\n",
    "\n",
    "We'll write a `for` loop to print the contents of each line."
   ]
  },
  {
   "cell_type": "code",
   "execution_count": null,
   "metadata": {},
   "outputs": [],
   "source": [
    "input='''0123456789\n",
    "ABCDEFGHIJKLMNOPQRSTUVWXYZ\n",
    "0123456789'''\n",
    "l = input.split(\"\\n\")"
   ]
  },
  {
   "cell_type": "markdown",
   "metadata": {
    "slideshow": {
     "slide_type": "slide"
    }
   },
   "source": [
    "A useful addition to this is to use `enumerate()` on the list to get both the current index and current item. Then we can use that to do useful stuff. Often I use it to make file names specific to a point in the iteration. We'll use the shell command `ls` to list files in the directory before and after.  "
   ]
  },
  {
   "cell_type": "code",
   "execution_count": null,
   "metadata": {},
   "outputs": [],
   "source": [
    "!ls file*\n",
    "input='''0123456789\n",
    "ABCDEFGHIJKLMNOPQRSTUVWXYZ\n",
    "0123456789'''\n",
    "l = input.split(\"\\n\")\n",
    "for indx, i in enumerate(l):\n",
    "    filename = \"file_\"+str(indx)+\".txt\"\n",
    "    with open(filename, 'w') as output:\n",
    "        output.write(i)\n",
    "!ls file*"
   ]
  },
  {
   "cell_type": "markdown",
   "metadata": {},
   "source": [
    "If you check the contents of each generated file they should now have the corresponding line in the list.\n",
    "\n",
    "Note that we had to cast the integer index to a string to concatenate it to the file name. (There are easier ways to do that now using `f-strings` but we'll save that for you to learn about later.) The way we did things here is very explicit.\n",
    "\n",
    "Note if you'd prefer your file names start with one, you could replace filename assignment with the following before running that code so you end up with `file_1.txt  file_2.txt\tfile_3.txt`:\n",
    "\n",
    "```python\n",
    "filename = \"file_\"+str(indx)+\".txt\"\n",
    "```"
   ]
  },
  {
   "cell_type": "markdown",
   "metadata": {
    "slideshow": {
     "slide_type": "slide"
    }
   },
   "source": [
    "You can also iterate over a dictionary. Let's use our dictionary where the keys corresponded to accessions to save files. "
   ]
  },
  {
   "cell_type": "code",
   "execution_count": null,
   "metadata": {},
   "outputs": [],
   "source": [
    "!ls *.fa\n",
    "# accession numbers as keys:\n",
    "a = {\"GB1567661\":\"LVALACHYRSITWP\",\n",
    "    \"GB1567662\":\"LVALACHYRSITWP\",\n",
    "    \"GB1567663\":\"LVALACIYASITWN\"}\n",
    "for k, v in a.items():\n",
    "    filename = k+\".fa\"\n",
    "    txt = \">\"+k+\"\\n\"+v\n",
    "    with open(filename, 'w') as output:\n",
    "        output.write(txt)\n",
    "!ls *.fa"
   ]
  },
  {
   "cell_type": "markdown",
   "metadata": {},
   "source": [
    "You'll see FASTA files made from those sequences for each accession number now."
   ]
  },
  {
   "cell_type": "markdown",
   "metadata": {
    "slideshow": {
     "slide_type": "slide"
    }
   },
   "source": [
    "## Adding items to a list and dictionary and accessing items in a dictionary\n",
    "\n",
    "You use the list method `append()` to add an item to a list."
   ]
  },
  {
   "cell_type": "code",
   "execution_count": null,
   "metadata": {},
   "outputs": [],
   "source": [
    "input='''0123456789\n",
    "ABCDEFGHIJKLMNOPQRSTUVWXYZ\n",
    "0123456789'''\n",
    "l = input.split(\"\\n\")\n",
    "l.append(\"Added this text\")\n",
    "print(l)"
   ]
  },
  {
   "cell_type": "markdown",
   "metadata": {
    "slideshow": {
     "slide_type": "slide"
    }
   },
   "source": [
    "You use the key and assign an additional item to a dictionary."
   ]
  },
  {
   "cell_type": "code",
   "execution_count": null,
   "metadata": {},
   "outputs": [],
   "source": [
    "# accession numbers as keys:\n",
    "a = {\"GB1567661\":\"LVALACHYRSITWP\",\n",
    "    \"GB1567662\":\"LVALACHYRSITWP\",\n",
    "    \"GB1567663\":\"LVALACIYASITWN\"}\n",
    "print(a)\n",
    "a[\"GB1568820\"] = \"GAVALATIYASITWS\"\n",
    "print(a)"
   ]
  },
  {
   "cell_type": "markdown",
   "metadata": {
    "slideshow": {
     "slide_type": "slide"
    }
   },
   "source": [
    "We've already seen how to access items in a list. We either use the index of the item, such as `line[16]` or iterate through the list looking for items that meet our conditions. (There is a way to also get the index of the first occurence of an item in a list if we only know the item we are looking for.)\n",
    "\n",
    "What about a dictionary?\n",
    "\n",
    "We can just use the key to get the value."
   ]
  },
  {
   "cell_type": "code",
   "execution_count": null,
   "metadata": {},
   "outputs": [],
   "source": [
    "# accession numbers as keys:\n",
    "a = {\"GB1567661\":\"LVALACHYRSITWP\",\n",
    "    \"GB1567662\":\"LVALACHYRSITWP\",\n",
    "    \"GB1567663\":\"LVALACIYASITWN\"}\n",
    "print(a[\"GB1567662\"])"
   ]
  },
  {
   "cell_type": "markdown",
   "metadata": {},
   "source": [
    "Alternatively we can use the `get()` method of a dicitonary object."
   ]
  },
  {
   "cell_type": "code",
   "execution_count": null,
   "metadata": {},
   "outputs": [],
   "source": [
    "print(a.get(\"GB1567662\"))"
   ]
  },
  {
   "cell_type": "markdown",
   "metadata": {},
   "source": [
    "This second one has the ability to assign something special to return if the key doesn't exist."
   ]
  },
  {
   "cell_type": "code",
   "execution_count": null,
   "metadata": {},
   "outputs": [],
   "source": [
    "print(a.get(\"GB9999999\", \"This accession number is not represented in the data.\"))"
   ]
  },
  {
   "cell_type": "markdown",
   "metadata": {},
   "source": [
    "And then you could use an `if` / conditional to check if you get that and react in a special way if necessary."
   ]
  },
  {
   "cell_type": "markdown",
   "metadata": {
    "slideshow": {
     "slide_type": "slide"
    }
   },
   "source": [
    "## dataframes\n",
    "\n",
    "Panel data, a.k.a, dataframes, are another useful data handling Python object. They aren't included in 'base' Python.\n",
    "\n",
    "We have to import a popular Python package, called 'Pandas' to handle them."
   ]
  },
  {
   "cell_type": "markdown",
   "metadata": {
    "slideshow": {
     "slide_type": "slide"
    }
   },
   "source": [
    "<center> 'base' Python and packages / libraries / modules\n",
    "\n",
    "You get 'base' python by default.\n",
    "\n",
    "Add other stuff beyond base python and what you code by importing modules/packages/libraries.\n",
    "This adds a lot of convenience because you aren't stuck re-inventing the wheel from scratch. You can plug in to code developed by others.\n",
    "\n",
    "Some included as built-in to Python, but you have to still import them, such as `math` which gives you pi as a constant.  \n",
    "Why if built-in to Python, not included in 'base'? The idea is that you don't wanted a crowded namespace. It's kind of an artitificial case, but imagine someone was coding where they had pi defined as soemthing involving interpreting ancient greek letters that match that glyph, that would conflict or maybe lead to odd results if the math pi was already defined as pi. This is why you want to keep the namespace environment free and barebones at the start.\n",
    "\n",
    "Lots of not built-ins importable modules/packages/libraries are made by third parties. (You use package manager, [pip](https://pypi.org/project/pip/) to easily install them on system before you import import them. What we'll import today has already been installed in this remote system.)\n",
    "Some are super popular , essential for Python work, like numpy/matplotlib/pandas, others by big companies like Netflix (papermill; scrapbook). Lots just done by one a few folks."
   ]
  },
  {
   "cell_type": "markdown",
   "metadata": {
    "slideshow": {
     "slide_type": "slide"
    }
   },
   "source": [
    "###  Import pandas and make a dataframe\n",
    "\n",
    "So let's import Pandas and make a dataframe to illustrate this. (Keep in mind. Pandas has already been installed using `pip` in the environment you are working in.)"
   ]
  },
  {
   "cell_type": "code",
   "execution_count": null,
   "metadata": {},
   "outputs": [],
   "source": [
    "import pandas as pd\n",
    "# accession numbers as keys:\n",
    "a = {\"GB1567661\":\"LVALACHYRSITWP\",\n",
    "    \"GB1567662\":\"LVALACHYRSITWP\",\n",
    "    \"GB1567663\":\"LVALACIYASITWN\"}\n",
    "df = pd.DataFrame(list(a.items()), \n",
    "    columns=['accession', 'aas'])\n",
    "df"
   ]
  },
  {
   "cell_type": "markdown",
   "metadata": {},
   "source": [
    "Pandas is like what you'd get if combined a spread sheet with Python. It is great for data wrangling and analyses. We won't get into here but you can access data by row and column, iterate over any row or columns. Do operations across any row or column. You can even export to Excel if you absolutely need to.\n",
    "\n",
    "It is particularly useful for taking supplemental data published along with scientific articles and analyzing them further, example [here](https://github.com/fomightez/cl_sq_demo-binder/blob/master/notebooks/GSD/GSD%20Add_Supplemental_data_info_to_nt_count%20data%20for%201011_cerevisiae_collection.ipynb). Or taking data from BLAST and bringing it into Python, example [here](https://github.com/fomightez/blast-binder)."
   ]
  },
  {
   "cell_type": "markdown",
   "metadata": {
    "slideshow": {
     "slide_type": "slide"
    }
   },
   "source": [
    "### BioPandas\n",
    "\n",
    "Fotunately, someone has already combined the power of Pandas for PDB file data wrangling.\n",
    "\n",
    "[BioPandas](http://rasbt.github.io/biopandas/)\n",
    "\n",
    "An associated article is [here](http://dx.doi.org/10.21105/joss.00279).\n",
    "\n",
    "Let's use it to look at a PDB file and make some plots"
   ]
  },
  {
   "cell_type": "code",
   "execution_count": null,
   "metadata": {},
   "outputs": [],
   "source": [
    "from biopandas.pdb import PandasPdb\n",
    "# Initialize a new PandasPdb object & fetch the PDB file from rcsb.org\n",
    "ppdb = PandasPdb().fetch_pdb('3eiy')\n",
    "# print first 10 lines of atoms\n",
    "ppdb.df['ATOM'].head(10)"
   ]
  },
  {
   "cell_type": "code",
   "execution_count": null,
   "metadata": {},
   "outputs": [],
   "source": [
    "import matplotlib.pyplot as plt\n",
    "from matplotlib import style\n",
    "style.use('ggplot')\n",
    "ppdb.df['ATOM']['b_factor'].plot(kind='hist')\n",
    "plt.title('Distribution of B-Factors')\n",
    "plt.xlabel('B-factor')\n",
    "plt.ylabel('count')\n",
    "plt.show()"
   ]
  },
  {
   "cell_type": "code",
   "execution_count": null,
   "metadata": {},
   "outputs": [],
   "source": [
    "ppdb.df['ATOM']['b_factor'].plot(kind='line')\n",
    "plt.title('B-Factors Along the Amino Acid Chain')\n",
    "plt.xlabel('Residue Number')\n",
    "plt.ylabel('B-factor in $A^2$')\n",
    "plt.show()"
   ]
  },
  {
   "cell_type": "code",
   "execution_count": null,
   "metadata": {},
   "outputs": [],
   "source": [
    "ppdb.df['ATOM']['element_symbol'].value_counts().plot(kind='bar')\n",
    "plt.title('Distribution of Atom Types')\n",
    "plt.xlabel('elements')\n",
    "plt.ylabel('count')\n",
    "plt.show()"
   ]
  },
  {
   "cell_type": "markdown",
   "metadata": {
    "slideshow": {
     "slide_type": "slide"
    }
   },
   "source": [
    "## Modularity and DRY (Don't Repeat Yourself)\n",
    "\n",
    "Often you'll want to run the same processes over different data. Sometimes it will be in a loop, and so you could consider leaving the list of the steps there in the code. However, sometimes you may want to run those steps at one point in the whole list of steps and then maybe again later, not in that same loop. Or what if you write something you use quite often in many different scripts or notebooks with different data and slightly different options.\n",
    "\n",
    "If you could modularize your code into a portable unit that you could then invoke with different data inputs and options, then you could increase your efficiency dramatically.\n",
    "\n",
    "This is what Python functions allow. You define a function name and parameters you'll pass into it. And then you define a list of steps to run on input passed into those parameters when you call that function. Optionally, you can also have the function return something, such as a result when it is done. For example, if it was doing a calculation you can have it return the calculated value and assign that to a variable, or append it to a list or dictionary where you are collecting the results.\n",
    "\n",
    "**Whitespace matters here.**\n",
    "\n",
    "Okay, that sounds rather daunting at first but we've been building towards this today. We can put together some of our basics and make a function. We'll make something simple for now but hopefully you'll see you can keep building on that concept to make functions that do very complex analyses.\n",
    "\n",
    "As an example for today we'll make a function that calculates the number of histidines in a PDB file. This is based on a simple example we developed in Session #3 along the lines of:\n",
    "\n",
    "```python\n",
    "with open(\"1p3v.pdb\", 'r') as input:\n",
    "    for line in input:\n",
    "        if line.startswith(\"ATOM\") and \"CA\" in line:\n",
    "            if 'HIS' in line:\n",
    "                print(line)\n",
    "```"
   ]
  },
  {
   "cell_type": "code",
   "execution_count": null,
   "metadata": {},
   "outputs": [],
   "source": [
    "# make sure we have the involved PDB files\n",
    "pdb_ids = [\"1p3v\",\"1pin\",\"1f8a\",\"1f8a\",\"1trn\",\"1ehz\"]\n",
    "pdb_files = []\n",
    "for id in pdb_ids:\n",
    "    !curl -OL https://files.rcsb.org/download/{id}.pdb\n",
    "    pdb_files.append(id + \".pdb\") #there's fancier ways to do this automatically \n",
    "pdb_files"
   ]
  },
  {
   "cell_type": "markdown",
   "metadata": {},
   "source": [
    "Make the function to take the PDB file and return the number of histidines. This will get you started. You'll need to edit it:"
   ]
  },
  {
   "cell_type": "code",
   "execution_count": null,
   "metadata": {},
   "outputs": [],
   "source": [
    "def histidine_count(pdb_fn):\n",
    "    '''\n",
    "    This function takes a filename of a PDB file and\n",
    "    opens that file and counts the number of histidines.\n",
    "    \n",
    "    Returns:\n",
    "    Count of the number of histidines\n",
    "    '''\n",
    "    with open(\"1p3v.pdb\", 'r') as input:\n",
    "    for line in input:\n",
    "        if line.startswith(\"ATOM\") and \"CA\" in line:\n",
    "            if 'HIS' in line:\n",
    "                print(line)"
   ]
  },
  {
   "cell_type": "markdown",
   "metadata": {
    "slideshow": {
     "slide_type": "slide"
    }
   },
   "source": [
    "Let's use the function now to do some analyses:"
   ]
  },
  {
   "cell_type": "code",
   "execution_count": null,
   "metadata": {},
   "outputs": [],
   "source": [
    "histidine_counts = []\n",
    "for pdb_file in pdb_files:\n",
    "    histidine_counts.append(histidine_count(pdb_file))\n",
    "print(\"The maximum number of histidines among the PDB files analyzed is:\",max(histidine_counts))\n",
    "print(\"The minimum number of histidines among the PDB files analyzed is:\",min(histidine_counts))"
   ]
  },
  {
   "cell_type": "code",
   "execution_count": null,
   "metadata": {},
   "outputs": [],
   "source": [
    "histidine_counts"
   ]
  },
  {
   "cell_type": "markdown",
   "metadata": {
    "slideshow": {
     "slide_type": "slide"
    }
   },
   "source": [
    "## Possibilities \n",
    "\n",
    "[bendit-binder](https://github.com/fomightez/bendit-binder)\n",
    "- Took webform-based system bend.it by three scientists that predicts DNA curvature and bendability degree that had a command line version of the software by the same authors and got command line version where Nathan could use it. And then combined it with Python and Jupyter to make it high-throughput.\n",
    "- Can process 700 75-nt sequences in 10 minutes.\n",
    "- Main Python packages used are Seaborn and Pandas.\n",
    "- Combines in use of Github actions to make customized notebooks, one even talks to Natha, upon commits.\n",
    "\n",
    "Work-in-progress: [modelit-binder](https://github.com/fomightez/modelit-binder)\n",
    "\n",
    "- Takes webform-based syst of model.it software by same authors ans ben.it and makes 3D models of DNA using the calaculated curvature values. \n",
    "- No command line version so had to automate web interactions using selenium webdriver."
   ]
  },
  {
   "cell_type": "markdown",
   "metadata": {
    "slideshow": {
     "slide_type": "slide"
    }
   },
   "source": [
    "By the way, here is the code we could have made to make the `histidine_count()` function.\n",
    "(I didn't want to put it up at the top because too easy to see the answer, but also wanted to make sure a working example was with the material.)\n",
    "\n",
    "```python\n",
    "def histidine_count(pdb_fn):\n",
    "    '''\n",
    "    This function takes a filename of a PDB file and\n",
    "    opens that file and counts the number of histidines.\n",
    "    \n",
    "    Returns:\n",
    "    Count of the number of histidines\n",
    "    '''\n",
    "    with open(pdb_fn, 'r') as input:\n",
    "        hist_count = 0\n",
    "        for line in input:\n",
    "            if line.startswith(\"ATOM\") and \"CA\" in line:\n",
    "                if 'HIS' in line:\n",
    "                    hist_count = hist_count + 1\n",
    "    return hist_count\n",
    "```"
   ]
  },
  {
   "cell_type": "markdown",
   "metadata": {
    "slideshow": {
     "slide_type": "slide"
    }
   },
   "source": [
    "--------\n",
    "\n",
    "\n",
    "## That's probably more than enough for the hour we have planned today.\n",
    "\n",
    "Click [here](index.ipynb) to go back to part #1."
   ]
  }
 ],
 "metadata": {
  "celltoolbar": "Slideshow",
  "kernelspec": {
   "display_name": "Python 3",
   "language": "python",
   "name": "python3"
  },
  "language_info": {
   "codemirror_mode": {
    "name": "ipython",
    "version": 3
   },
   "file_extension": ".py",
   "mimetype": "text/x-python",
   "name": "python",
   "nbconvert_exporter": "python",
   "pygments_lexer": "ipython3",
   "version": "3.7.6"
  },
  "rise": {
   "autolaunch": true,
   "enable_chalkboard": true,
   "scroll": true,
   "theme": "white",
   "transition": "zoom"
  }
 },
 "nbformat": 4,
 "nbformat_minor": 4
}
