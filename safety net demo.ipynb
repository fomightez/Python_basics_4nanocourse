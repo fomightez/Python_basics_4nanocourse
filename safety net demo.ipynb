{
 "cells": [
  {
   "cell_type": "markdown",
   "metadata": {},
   "source": [
    "# Safety net demonstration\n",
    "\n",
    "See [here](https://github.com/biovcnet/biovcnet.github.io/wiki/Infrastructure:-MyBinder#safety-net-for-the-ephemeral-nature-of-sessions) about the temporary nature of MyBinder sessions.\n",
    "\n",
    "This notebook is meant to demonstrate some of the steps you can use to manage against that.\n",
    "\n",
    "You may want to see [here](https://discourse.jupyter.org/t/getting-your-notebook-after-your-binder-has-stopped/3268?u=fomightez) if you need more in-depth background and demonstrations.\n",
    "\n",
    "# Using the safety net system\n",
    "\n",
    "You should see three buttons in the toolbar above that look like the buttons below:\n",
    "![Offline notebook buttons](./offline-notebook-buttons.png)"
   ]
  },
  {
   "cell_type": "markdown",
   "metadata": {},
   "source": [
    "1. Make some changes to this notebook (or run it to update the output).\n",
    "2. Do not save the notebook. You can even disconnect from the Jupyter server or your network.\n",
    "3. Click the first button (`Download`). This should prompt you to download the notebook. **This is probably the step you most need to be familair with because you can now start a new MyBinder session using the link provided by your BVCN instructor,then drag-and-drop that notebook to the new remote session, and click to open it & starting working again.** However, if you want some advanced options, read on.\n",
    "4. Click the second button (`cloud download`). This should save the current notebook into your browser's [local-storage](https://developer.mozilla.org/en-US/docs/Web/API/Window/localStorage).\n",
    "5. Start a new instance of Jupyter, and open the original version of this notebook.\n",
    "6. Click the third button (`cloud upload`). This should restore the copy of the notebook from your browser's local-storage."
   ]
  },
  {
   "cell_type": "code",
   "execution_count": null,
   "metadata": {},
   "outputs": [],
   "source": [
    "from datetime import datetime\n",
    "print(datetime.now())"
   ]
  },
  {
   "cell_type": "code",
   "execution_count": null,
   "metadata": {},
   "outputs": [],
   "source": [
    "import os\n",
    "for (k, v) in sorted(os.environ.items()):\n",
    "    print(f'{k}\\t{v}')"
   ]
  },
  {
   "cell_type": "markdown",
   "metadata": {},
   "source": [
    "Limitations: see [README.md](https://github.com/manics/jupyter-offlinenotebook/blob/master/README.md)"
   ]
  }
 ],
 "metadata": {
  "kernelspec": {
   "display_name": "Python 3",
   "language": "python",
   "name": "python3"
  },
  "language_info": {
   "codemirror_mode": {
    "name": "ipython",
    "version": 3
   },
   "file_extension": ".py",
   "mimetype": "text/x-python",
   "name": "python",
   "nbconvert_exporter": "python",
   "pygments_lexer": "ipython3",
   "version": "3.7.6"
  }
 },
 "nbformat": 4,
 "nbformat_minor": 4
}
